{
 "cells": [
  {
   "cell_type": "code",
   "execution_count": 1,
   "id": "50fee2ab",
   "metadata": {},
   "outputs": [],
   "source": [
    "import urllib.request\n",
    "import json"
   ]
  },
  {
   "cell_type": "code",
   "execution_count": 22,
   "id": "217129e4",
   "metadata": {},
   "outputs": [],
   "source": [
    "url = \"https://api.crossref.org/works/10.1371/journal.pcbi.1004668\""
   ]
  },
  {
   "cell_type": "code",
   "execution_count": 26,
   "id": "72a7ae56",
   "metadata": {},
   "outputs": [],
   "source": [
    "doi_json_dataset = urllib.request.urlopen(url).read()"
   ]
  },
  {
   "cell_type": "code",
   "execution_count": 28,
   "id": "328a0e70",
   "metadata": {},
   "outputs": [],
   "source": [
    "doi_dataset = json.loads(doi_json_dataset)"
   ]
  },
  {
   "cell_type": "code",
   "execution_count": 29,
   "id": "21f4a73a",
   "metadata": {},
   "outputs": [
    {
     "data": {
      "text/plain": [
       "{'status': 'ok',\n",
       " 'message-type': 'work',\n",
       " 'message-version': '1.0.0',\n",
       " 'message': {'indexed': {'date-parts': [[2023, 10, 23]],\n",
       "   'date-time': '2023-10-23T12:05:12Z',\n",
       "   'timestamp': 1698062712511},\n",
       "  'reference-count': 6,\n",
       "  'publisher': 'Public Library of Science (PLoS)',\n",
       "  'issue': '1',\n",
       "  'license': [{'start': {'date-parts': [[2016, 1, 19]],\n",
       "     'date-time': '2016-01-19T00:00:00Z',\n",
       "     'timestamp': 1453161600000},\n",
       "    'content-version': 'vor',\n",
       "    'delay-in-days': 0,\n",
       "    'URL': 'http://creativecommons.org/licenses/by/4.0/'}],\n",
       "  'content-domain': {'domain': ['www.ploscompbiol.org'],\n",
       "   'crossmark-restriction': False},\n",
       "  'short-container-title': ['PLoS Comput Biol'],\n",
       "  'DOI': '10.1371/journal.pcbi.1004668',\n",
       "  'type': 'journal-article',\n",
       "  'created': {'date-parts': [[2016, 1, 19]],\n",
       "   'date-time': '2016-01-19T21:35:29Z',\n",
       "   'timestamp': 1453239329000},\n",
       "  'page': 'e1004668',\n",
       "  'update-policy': 'http://dx.doi.org/10.1371/journal.pcbi.corrections_policy',\n",
       "  'source': 'Crossref',\n",
       "  'is-referenced-by-count': 86,\n",
       "  'title': ['A Quick Introduction to Version Control with Git and GitHub'],\n",
       "  'prefix': '10.1371',\n",
       "  'volume': '12',\n",
       "  'author': [{'given': 'John D.',\n",
       "    'family': 'Blischak',\n",
       "    'sequence': 'first',\n",
       "    'affiliation': []},\n",
       "   {'given': 'Emily R.',\n",
       "    'family': 'Davenport',\n",
       "    'sequence': 'additional',\n",
       "    'affiliation': []},\n",
       "   {'given': 'Greg',\n",
       "    'family': 'Wilson',\n",
       "    'sequence': 'additional',\n",
       "    'affiliation': []}],\n",
       "  'member': '340',\n",
       "  'published-online': {'date-parts': [[2016, 1, 19]]},\n",
       "  'reference': [{'key': 'ref1',\n",
       "    'doi-asserted-by': 'crossref',\n",
       "    'first-page': '7',\n",
       "    'DOI': '10.1186/1751-0473-8-7',\n",
       "    'article-title': 'Git can facilitate greater reproducibility and increased transparency in science',\n",
       "    'volume': '8',\n",
       "    'author': 'K Ram',\n",
       "    'year': '2013',\n",
       "    'journal-title': 'Source Code Biol Med'},\n",
       "   {'key': 'ref2',\n",
       "    'doi-asserted-by': 'crossref',\n",
       "    'first-page': 'e1001745',\n",
       "    'DOI': '10.1371/journal.pbio.1001745',\n",
       "    'article-title': 'Best practices for scientific computing',\n",
       "    'volume': '12',\n",
       "    'author': 'G Wilson',\n",
       "    'year': '2014',\n",
       "    'journal-title': 'PLoS Biol'},\n",
       "   {'key': 'ref3',\n",
       "    'doi-asserted-by': 'crossref',\n",
       "    'first-page': '57',\n",
       "    'DOI': '10.1038/nature11247',\n",
       "    'article-title': 'An integrated encyclopedia of DNA elements in the human genome',\n",
       "    'volume': '489',\n",
       "    'author': 'B Bernstein',\n",
       "    'year': '2012',\n",
       "    'journal-title': 'Nature'},\n",
       "   {'key': 'ref4',\n",
       "    'doi-asserted-by': 'crossref',\n",
       "    'first-page': 'e1003326',\n",
       "    'DOI': '10.1371/journal.pcbi.1003326',\n",
       "    'article-title': 'Practical guidelines for the comprehensive analysis of ChIP-seq data',\n",
       "    'volume': '9',\n",
       "    'author': 'T Bailey',\n",
       "    'year': '2013',\n",
       "    'journal-title': 'PLoS Comput Biol'},\n",
       "   {'key': 'ref5',\n",
       "    'doi-asserted-by': 'crossref',\n",
       "    'first-page': 'e1000424',\n",
       "    'DOI': '10.1371/journal.pcbi.1000424',\n",
       "    'article-title': 'A quick guide to organizing computational biology projects',\n",
       "    'volume': '5',\n",
       "    'author': 'W Noble',\n",
       "    'year': '2009',\n",
       "    'journal-title': 'PLoS Comput Biol'},\n",
       "   {'key': 'ref6',\n",
       "    'doi-asserted-by': 'crossref',\n",
       "    'first-page': 'e1002598',\n",
       "    'DOI': '10.1371/journal.pcbi.1002598',\n",
       "    'article-title': 'A quick guide to software licensing for the scientist-programmer',\n",
       "    'volume': '8',\n",
       "    'author': 'A Morin',\n",
       "    'year': '2012',\n",
       "    'journal-title': 'PLoS Comput Biol'}],\n",
       "  'container-title': ['PLOS Computational Biology'],\n",
       "  'original-title': [],\n",
       "  'language': 'en',\n",
       "  'link': [{'URL': 'http://dx.plos.org/10.1371/journal.pcbi.1004668',\n",
       "    'content-type': 'unspecified',\n",
       "    'content-version': 'vor',\n",
       "    'intended-application': 'similarity-checking'}],\n",
       "  'deposited': {'date-parts': [[2020, 5, 8]],\n",
       "   'date-time': '2020-05-08T21:36:54Z',\n",
       "   'timestamp': 1588973814000},\n",
       "  'score': 1,\n",
       "  'resource': {'primary': {'URL': 'https://dx.plos.org/10.1371/journal.pcbi.1004668'}},\n",
       "  'subtitle': [],\n",
       "  'editor': [{'given': 'Francis',\n",
       "    'family': 'Ouellette',\n",
       "    'sequence': 'first',\n",
       "    'affiliation': []}],\n",
       "  'short-title': [],\n",
       "  'issued': {'date-parts': [[2016, 1, 19]]},\n",
       "  'references-count': 6,\n",
       "  'journal-issue': {'issue': '1',\n",
       "   'published-online': {'date-parts': [[2016, 1, 19]]}},\n",
       "  'URL': 'http://dx.doi.org/10.1371/journal.pcbi.1004668',\n",
       "  'relation': {},\n",
       "  'ISSN': ['1553-7358'],\n",
       "  'issn-type': [{'value': '1553-7358', 'type': 'electronic'}],\n",
       "  'subject': ['Computational Theory and Mathematics',\n",
       "   'Cellular and Molecular Neuroscience',\n",
       "   'Genetics',\n",
       "   'Molecular Biology',\n",
       "   'Ecology',\n",
       "   'Modeling and Simulation',\n",
       "   'Ecology, Evolution, Behavior and Systematics'],\n",
       "  'published': {'date-parts': [[2016, 1, 19]]}}}"
      ]
     },
     "execution_count": 29,
     "metadata": {},
     "output_type": "execute_result"
    }
   ],
   "source": [
    "doi_dataset"
   ]
  },
  {
   "cell_type": "code",
   "execution_count": 30,
   "id": "feefd8dc",
   "metadata": {},
   "outputs": [
    {
     "data": {
      "text/plain": [
       "dict_keys(['status', 'message-type', 'message-version', 'message'])"
      ]
     },
     "execution_count": 30,
     "metadata": {},
     "output_type": "execute_result"
    }
   ],
   "source": [
    "doi_dataset.keys()"
   ]
  },
  {
   "cell_type": "code",
   "execution_count": 31,
   "id": "d07b1f5d",
   "metadata": {},
   "outputs": [
    {
     "data": {
      "text/plain": [
       "{'indexed': {'date-parts': [[2023, 10, 23]],\n",
       "  'date-time': '2023-10-23T12:05:12Z',\n",
       "  'timestamp': 1698062712511},\n",
       " 'reference-count': 6,\n",
       " 'publisher': 'Public Library of Science (PLoS)',\n",
       " 'issue': '1',\n",
       " 'license': [{'start': {'date-parts': [[2016, 1, 19]],\n",
       "    'date-time': '2016-01-19T00:00:00Z',\n",
       "    'timestamp': 1453161600000},\n",
       "   'content-version': 'vor',\n",
       "   'delay-in-days': 0,\n",
       "   'URL': 'http://creativecommons.org/licenses/by/4.0/'}],\n",
       " 'content-domain': {'domain': ['www.ploscompbiol.org'],\n",
       "  'crossmark-restriction': False},\n",
       " 'short-container-title': ['PLoS Comput Biol'],\n",
       " 'DOI': '10.1371/journal.pcbi.1004668',\n",
       " 'type': 'journal-article',\n",
       " 'created': {'date-parts': [[2016, 1, 19]],\n",
       "  'date-time': '2016-01-19T21:35:29Z',\n",
       "  'timestamp': 1453239329000},\n",
       " 'page': 'e1004668',\n",
       " 'update-policy': 'http://dx.doi.org/10.1371/journal.pcbi.corrections_policy',\n",
       " 'source': 'Crossref',\n",
       " 'is-referenced-by-count': 86,\n",
       " 'title': ['A Quick Introduction to Version Control with Git and GitHub'],\n",
       " 'prefix': '10.1371',\n",
       " 'volume': '12',\n",
       " 'author': [{'given': 'John D.',\n",
       "   'family': 'Blischak',\n",
       "   'sequence': 'first',\n",
       "   'affiliation': []},\n",
       "  {'given': 'Emily R.',\n",
       "   'family': 'Davenport',\n",
       "   'sequence': 'additional',\n",
       "   'affiliation': []},\n",
       "  {'given': 'Greg',\n",
       "   'family': 'Wilson',\n",
       "   'sequence': 'additional',\n",
       "   'affiliation': []}],\n",
       " 'member': '340',\n",
       " 'published-online': {'date-parts': [[2016, 1, 19]]},\n",
       " 'reference': [{'key': 'ref1',\n",
       "   'doi-asserted-by': 'crossref',\n",
       "   'first-page': '7',\n",
       "   'DOI': '10.1186/1751-0473-8-7',\n",
       "   'article-title': 'Git can facilitate greater reproducibility and increased transparency in science',\n",
       "   'volume': '8',\n",
       "   'author': 'K Ram',\n",
       "   'year': '2013',\n",
       "   'journal-title': 'Source Code Biol Med'},\n",
       "  {'key': 'ref2',\n",
       "   'doi-asserted-by': 'crossref',\n",
       "   'first-page': 'e1001745',\n",
       "   'DOI': '10.1371/journal.pbio.1001745',\n",
       "   'article-title': 'Best practices for scientific computing',\n",
       "   'volume': '12',\n",
       "   'author': 'G Wilson',\n",
       "   'year': '2014',\n",
       "   'journal-title': 'PLoS Biol'},\n",
       "  {'key': 'ref3',\n",
       "   'doi-asserted-by': 'crossref',\n",
       "   'first-page': '57',\n",
       "   'DOI': '10.1038/nature11247',\n",
       "   'article-title': 'An integrated encyclopedia of DNA elements in the human genome',\n",
       "   'volume': '489',\n",
       "   'author': 'B Bernstein',\n",
       "   'year': '2012',\n",
       "   'journal-title': 'Nature'},\n",
       "  {'key': 'ref4',\n",
       "   'doi-asserted-by': 'crossref',\n",
       "   'first-page': 'e1003326',\n",
       "   'DOI': '10.1371/journal.pcbi.1003326',\n",
       "   'article-title': 'Practical guidelines for the comprehensive analysis of ChIP-seq data',\n",
       "   'volume': '9',\n",
       "   'author': 'T Bailey',\n",
       "   'year': '2013',\n",
       "   'journal-title': 'PLoS Comput Biol'},\n",
       "  {'key': 'ref5',\n",
       "   'doi-asserted-by': 'crossref',\n",
       "   'first-page': 'e1000424',\n",
       "   'DOI': '10.1371/journal.pcbi.1000424',\n",
       "   'article-title': 'A quick guide to organizing computational biology projects',\n",
       "   'volume': '5',\n",
       "   'author': 'W Noble',\n",
       "   'year': '2009',\n",
       "   'journal-title': 'PLoS Comput Biol'},\n",
       "  {'key': 'ref6',\n",
       "   'doi-asserted-by': 'crossref',\n",
       "   'first-page': 'e1002598',\n",
       "   'DOI': '10.1371/journal.pcbi.1002598',\n",
       "   'article-title': 'A quick guide to software licensing for the scientist-programmer',\n",
       "   'volume': '8',\n",
       "   'author': 'A Morin',\n",
       "   'year': '2012',\n",
       "   'journal-title': 'PLoS Comput Biol'}],\n",
       " 'container-title': ['PLOS Computational Biology'],\n",
       " 'original-title': [],\n",
       " 'language': 'en',\n",
       " 'link': [{'URL': 'http://dx.plos.org/10.1371/journal.pcbi.1004668',\n",
       "   'content-type': 'unspecified',\n",
       "   'content-version': 'vor',\n",
       "   'intended-application': 'similarity-checking'}],\n",
       " 'deposited': {'date-parts': [[2020, 5, 8]],\n",
       "  'date-time': '2020-05-08T21:36:54Z',\n",
       "  'timestamp': 1588973814000},\n",
       " 'score': 1,\n",
       " 'resource': {'primary': {'URL': 'https://dx.plos.org/10.1371/journal.pcbi.1004668'}},\n",
       " 'subtitle': [],\n",
       " 'editor': [{'given': 'Francis',\n",
       "   'family': 'Ouellette',\n",
       "   'sequence': 'first',\n",
       "   'affiliation': []}],\n",
       " 'short-title': [],\n",
       " 'issued': {'date-parts': [[2016, 1, 19]]},\n",
       " 'references-count': 6,\n",
       " 'journal-issue': {'issue': '1',\n",
       "  'published-online': {'date-parts': [[2016, 1, 19]]}},\n",
       " 'URL': 'http://dx.doi.org/10.1371/journal.pcbi.1004668',\n",
       " 'relation': {},\n",
       " 'ISSN': ['1553-7358'],\n",
       " 'issn-type': [{'value': '1553-7358', 'type': 'electronic'}],\n",
       " 'subject': ['Computational Theory and Mathematics',\n",
       "  'Cellular and Molecular Neuroscience',\n",
       "  'Genetics',\n",
       "  'Molecular Biology',\n",
       "  'Ecology',\n",
       "  'Modeling and Simulation',\n",
       "  'Ecology, Evolution, Behavior and Systematics'],\n",
       " 'published': {'date-parts': [[2016, 1, 19]]}}"
      ]
     },
     "execution_count": 31,
     "metadata": {},
     "output_type": "execute_result"
    }
   ],
   "source": [
    "doi_dataset[\"message\"]"
   ]
  },
  {
   "cell_type": "code",
   "execution_count": 32,
   "id": "fcea34a2",
   "metadata": {},
   "outputs": [
    {
     "data": {
      "text/plain": [
       "dict_keys(['indexed', 'reference-count', 'publisher', 'issue', 'license', 'content-domain', 'short-container-title', 'DOI', 'type', 'created', 'page', 'update-policy', 'source', 'is-referenced-by-count', 'title', 'prefix', 'volume', 'author', 'member', 'published-online', 'reference', 'container-title', 'original-title', 'language', 'link', 'deposited', 'score', 'resource', 'subtitle', 'editor', 'short-title', 'issued', 'references-count', 'journal-issue', 'URL', 'relation', 'ISSN', 'issn-type', 'subject', 'published'])"
      ]
     },
     "execution_count": 32,
     "metadata": {},
     "output_type": "execute_result"
    }
   ],
   "source": [
    "doi_dataset[\"message\"].keys()"
   ]
  },
  {
   "cell_type": "code",
   "execution_count": 34,
   "id": "e77360b1",
   "metadata": {},
   "outputs": [
    {
     "data": {
      "text/plain": [
       "['A Quick Introduction to Version Control with Git and GitHub']"
      ]
     },
     "execution_count": 34,
     "metadata": {},
     "output_type": "execute_result"
    }
   ],
   "source": [
    "doi_dataset[\"message\"][\"title\"]"
   ]
  },
  {
   "cell_type": "code",
   "execution_count": 35,
   "id": "4a29ec53",
   "metadata": {},
   "outputs": [
    {
     "data": {
      "text/plain": [
       "['PLOS Computational Biology']"
      ]
     },
     "execution_count": 35,
     "metadata": {},
     "output_type": "execute_result"
    }
   ],
   "source": [
    "doi_dataset[\"message\"][\"container-title\"]"
   ]
  },
  {
   "cell_type": "code",
   "execution_count": null,
   "id": "12baf5cb",
   "metadata": {},
   "outputs": [],
   "source": []
  }
 ],
 "metadata": {
  "kernelspec": {
   "display_name": "Python 3 (ipykernel)",
   "language": "python",
   "name": "python3"
  },
  "language_info": {
   "codemirror_mode": {
    "name": "ipython",
    "version": 3
   },
   "file_extension": ".py",
   "mimetype": "text/x-python",
   "name": "python",
   "nbconvert_exporter": "python",
   "pygments_lexer": "ipython3",
   "version": "3.11.5"
  }
 },
 "nbformat": 4,
 "nbformat_minor": 5
}
