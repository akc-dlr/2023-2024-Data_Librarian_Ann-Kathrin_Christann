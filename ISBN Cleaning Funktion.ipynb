{
 "cells": [
  {
   "cell_type": "code",
   "execution_count": 1,
   "id": "3e260012",
   "metadata": {},
   "outputs": [],
   "source": [
    "# unbereinigte ISBNs\n",
    "dirty_isbns = [\n",
    "    \" ISBN 978-3-518-58773-7 \", \n",
    "    \"ISBN___978-1491946008 \",\n",
    "    \"ISBN 978-1593276034\"]"
   ]
  },
  {
   "cell_type": "code",
   "execution_count": 2,
   "id": "12f9bf30",
   "metadata": {},
   "outputs": [],
   "source": [
    "def clean_isbn():\n",
    "    isbn = \" ISBN 978-3-518-58773-7 \"\n",
    "    print(isbn)"
   ]
  },
  {
   "cell_type": "code",
   "execution_count": 4,
   "id": "ac27e2bb",
   "metadata": {},
   "outputs": [
    {
     "name": "stdout",
     "output_type": "stream",
     "text": [
      " ISBN 978-3-518-58773-7 \n"
     ]
    }
   ],
   "source": [
    "clean_isbn()"
   ]
  },
  {
   "cell_type": "code",
   "execution_count": 6,
   "id": "1401755b",
   "metadata": {},
   "outputs": [
    {
     "name": "stdout",
     "output_type": "stream",
     "text": [
      "ISBN 978-3-518-58773-7\n"
     ]
    }
   ],
   "source": [
    "def clean_isbn():\n",
    "    isbn = \" ISBN 978-3-518-58773-7 \"\n",
    "    isbn = isbn.strip()\n",
    "    print(isbn)\n",
    "clean_isbn()"
   ]
  },
  {
   "cell_type": "code",
   "execution_count": 7,
   "id": "86c73217",
   "metadata": {},
   "outputs": [
    {
     "name": "stdout",
     "output_type": "stream",
     "text": [
      "978-3-518-58773-7\n"
     ]
    }
   ],
   "source": [
    "def clean_isbn():\n",
    "    isbn = \" ISBN 978-3-518-58773-7 \"\n",
    "    isbn = isbn.replace(\"ISBN\", \"\")\n",
    "    isbn = isbn.strip()\n",
    "    print(isbn)\n",
    "clean_isbn()"
   ]
  },
  {
   "cell_type": "code",
   "execution_count": 13,
   "id": "0f35aeac",
   "metadata": {},
   "outputs": [],
   "source": [
    "def clean_isbn(isbn):\n",
    "    isbn = isbn.replace(\"ISBN\", \"\")\n",
    "    isbn = isbn.replace(\"_\", \"\")\n",
    "    isbn = isbn.strip()\n",
    "    return isbn"
   ]
  },
  {
   "cell_type": "code",
   "execution_count": 10,
   "id": "3a03e213",
   "metadata": {},
   "outputs": [],
   "source": [
    "cleaned_isbn = clean_isbn(\" ISBN 978-3-518-58773-7 \")"
   ]
  },
  {
   "cell_type": "code",
   "execution_count": 11,
   "id": "9bdf7dcd",
   "metadata": {},
   "outputs": [
    {
     "data": {
      "text/plain": [
       "'978-3-518-58773-7'"
      ]
     },
     "execution_count": 11,
     "metadata": {},
     "output_type": "execute_result"
    }
   ],
   "source": [
    "cleaned_isbn"
   ]
  },
  {
   "cell_type": "code",
   "execution_count": 14,
   "id": "64d04beb",
   "metadata": {},
   "outputs": [
    {
     "name": "stdout",
     "output_type": "stream",
     "text": [
      "978-3-518-58773-7\n",
      "978-1491946008\n",
      "978-1593276034\n"
     ]
    }
   ],
   "source": [
    "for isbn in dirty_isbns:\n",
    "    cleaned_isbn = clean_isbn(isbn)\n",
    "    print(cleaned_isbn)\n",
    "    "
   ]
  },
  {
   "cell_type": "code",
   "execution_count": 15,
   "id": "39edbef1",
   "metadata": {},
   "outputs": [
    {
     "name": "stdout",
     "output_type": "stream",
     "text": [
      "clean_isbn\t cleaned_isbn\t dirty_isbns\t isbn\t \n"
     ]
    }
   ],
   "source": [
    "%who"
   ]
  },
  {
   "cell_type": "code",
   "execution_count": 16,
   "id": "2d75c96b",
   "metadata": {},
   "outputs": [
    {
     "name": "stdout",
     "output_type": "stream",
     "text": [
      "Variable       Type        Data/Info\n",
      "------------------------------------\n",
      "clean_isbn     function    <function clean_isbn at 0x7f8d56efb6a0>\n",
      "cleaned_isbn   str         978-1593276034\n",
      "dirty_isbns    list        n=3\n",
      "isbn           str         ISBN 978-1593276034\n"
     ]
    }
   ],
   "source": [
    "%whos"
   ]
  },
  {
   "cell_type": "code",
   "execution_count": null,
   "id": "4c1e804b",
   "metadata": {},
   "outputs": [],
   "source": []
  }
 ],
 "metadata": {
  "kernelspec": {
   "display_name": "Python 3 (ipykernel)",
   "language": "python",
   "name": "python3"
  },
  "language_info": {
   "codemirror_mode": {
    "name": "ipython",
    "version": 3
   },
   "file_extension": ".py",
   "mimetype": "text/x-python",
   "name": "python",
   "nbconvert_exporter": "python",
   "pygments_lexer": "ipython3",
   "version": "3.11.5"
  }
 },
 "nbformat": 4,
 "nbformat_minor": 5
}
